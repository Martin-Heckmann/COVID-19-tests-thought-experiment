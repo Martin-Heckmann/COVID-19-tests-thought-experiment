{
 "cells": [
  {
   "cell_type": "markdown",
   "metadata": {},
   "source": [
    "# Small example to show the influence of the prevalence on the results of a COVID-19 test\n",
    "This example is inspired by: https://www.quarks.de/gesundheit/medizin/corona-test-wie-funktioniert-der-test/ and https://www.tagesschau.de/faktenfinder/corona-test-117.html"
   ]
  },
  {
   "cell_type": "code",
   "execution_count": 2,
   "metadata": {},
   "outputs": [],
   "source": [
    "# Housekeeping: Loading of necessary packets\n",
    "import numpy as np\n",
    "from scipy import stats\n",
    "import plotly as py\n",
    "import plotly.graph_objs as go\n",
    "import plotly.express as px"
   ]
  },
  {
   "cell_type": "markdown",
   "metadata": {},
   "source": [
    "## The numbers for our experiment\n",
    "We use the estimated numbers of active COVID-19 cases in Germany from the RKI website (as of Sept. 19.2020)."
   ]
  },
  {
   "cell_type": "code",
   "execution_count": 21,
   "metadata": {},
   "outputs": [],
   "source": [
    "# As of Spe. 16.09 there are approx. 20.000 active COVID-19 cases in Germany\n",
    "# https://experience.arcgis.com/experience/478220a4c454480e823b17327b2bf1d4/page/page_0/\n",
    "cum_cases = 270070\n",
    "recovered_cases = 239800\n",
    "deaths = 9384\n",
    "inhabitants = 83149300 # https://en.wikipedia.org/wiki/Demographics_of_Germany\n",
    "\n",
    "# Assuming a test with perfect sensitivity\n",
    "sensitivity = 1"
   ]
  },
  {
   "cell_type": "code",
   "execution_count": 22,
   "metadata": {
    "tags": []
   },
   "outputs": [
    {
     "output_type": "stream",
     "name": "stdout",
     "text": "In Germany we have 20886 current cases and a prevalence of 25.12 per 100,000 inhabitants\n"
    }
   ],
   "source": [
    "current_cases = cum_cases - recovered_cases - deaths\n",
    "prevalence = current_cases/inhabitants\n",
    "print('In Germany we have {} current cases and a prevalence of {:.2f} per 100,000 inhabitants'.\n",
    "      format(current_cases, prevalence*100000))"
   ]
  },
  {
   "cell_type": "markdown",
   "metadata": {},
   "source": [
    "## Calculating the number of people we need to test to have a 50% probability of finding an active case\n",
    "If we randomly test people, how many do we need to test to have a 50% probability of finding an active case.\n",
    "\n",
    "Using the binomial distribution\n",
    "\n",
    "$P(k \\mid p,n)=\\binom{n}{k} p^k (1-p)^{n-k}$.\n",
    "\n",
    "The probability of not finding any case in $n$ tests is\n",
    "$P(k=0 \\mid p, n) = \\binom{n}{0} p^0 (1-p)^{n} = (1-p)^{n}$.\n",
    "\n",
    "This is the inverse probability of finding at least one case. Hence\n",
    "\n",
    "$P(k \\geq 1 \\mid p, n) = (1-p)^{n} \\geq 0.5$ .\n",
    "\n",
    "Hence\n",
    "\n",
    "$n \\geq \\frac{\\ln 0.5}{\\ln(1-p)}$\n",
    "\n",
    "where $p$ is the prevalence of the cases.\n"
   ]
  },
  {
   "cell_type": "code",
   "execution_count": 5,
   "metadata": {
    "tags": []
   },
   "outputs": [
    {
     "output_type": "stream",
     "name": "stdout",
     "text": "If we test randomly, we need to test 2759 people to have a 50% probability of detecting an active case\n"
    }
   ],
   "source": [
    "required_n50 = np.log(0.5)/np.log(1-prevalence)\n",
    "print('If we test randomly, we need to test {:d} people to have a 50% probability of detecting an active case'.format(np.int(required_n50)))"
   ]
  },
  {
   "cell_type": "code",
   "execution_count": 6,
   "metadata": {
    "tags": []
   },
   "outputs": [
    {
     "output_type": "stream",
     "name": "stdout",
     "text": "If we test randomly, we need to test 9165 people to have a 90% probability of detecting an active case\n"
    }
   ],
   "source": [
    "required_n90 = np.log(0.1)/np.log(1-prevalence)\n",
    "print('If we test randomly, we need to test {:d} people to have a 90% probability of detecting an active case'.format(np.int(required_n90)))"
   ]
  },
  {
   "cell_type": "markdown",
   "metadata": {},
   "source": [
    "## Calculating how many people we would find with a 50% probability if testing were random\n",
    "We still assume testing is random. How many people would we need to test in Germany to find the number of active cases we find.\n",
    "\n",
    "Using the binomial distribution\n",
    "\n",
    "$P(k|p,n)=\\binom{n}{k} p^k (1-p)^{n-k}$"
   ]
  },
  {
   "cell_type": "code",
   "execution_count": 34,
   "metadata": {
    "tags": []
   },
   "outputs": [
    {
     "output_type": "stream",
     "name": "stdout",
     "text": "When performing 156000 tests randomly at a prevalence of 0.0002511867207541134 we would find at least 39.0 with a 50% probability.\n"
    },
    {
     "output_type": "display_data",
     "data": {
      "application/vnd.plotly.v1+json": {
       "config": {
        "plotlyServerURL": "https://plot.ly"
       },
       "data": [
        {
         "alignmentgroup": "True",
         "hovertemplate": "x=%{x}<br>y=%{y}<extra></extra>",
         "legendgroup": "",
         "marker": {
          "color": "#636efa"
         },
         "name": "",
         "offsetgroup": "",
         "orientation": "v",
         "showlegend": false,
         "textposition": "auto",
         "type": "bar",
         "x": [
          0,
          1,
          2,
          3,
          4,
          5,
          6,
          7,
          8,
          9,
          10,
          11,
          12,
          13,
          14,
          15,
          16,
          17,
          18,
          19,
          20,
          21,
          22,
          23,
          24,
          25,
          26,
          27,
          28,
          29,
          30,
          31,
          32,
          33,
          34,
          35,
          36,
          37,
          38,
          39,
          40,
          41,
          42,
          43,
          44,
          45,
          46,
          47,
          48,
          49,
          50,
          51,
          52,
          53,
          54,
          55,
          56,
          57,
          58,
          59,
          60,
          61,
          62,
          63,
          64,
          65,
          66,
          67,
          68,
          69,
          70,
          71,
          72,
          73,
          74,
          75,
          76,
          77,
          78,
          79,
          80,
          81,
          82,
          83,
          84,
          85,
          86,
          87,
          88,
          89,
          90,
          91,
          92,
          93,
          94,
          95,
          96,
          97,
          98,
          99
         ],
         "xaxis": "x",
         "y": [
          9.549425732986448e-18,
          3.742894903462445e-16,
          7.335086344226343e-15,
          9.583161014815803e-14,
          9.390113015274056e-13,
          7.360715911271802e-12,
          4.80823032636719e-11,
          2.69216018332566e-10,
          1.3189301588696052e-9,
          5.743642426484754e-9,
          2.2510892600084436e-8,
          8.020520769257549e-8,
          2.6195161154121144e-7,
          7.897228264049798e-7,
          0.0000022107561407532768,
          0.000005776183495608184,
          0.000014148474449644627,
          0.00003261718865507909,
          0.00007101614084095909,
          0.00014648182117433015,
          0.0002870325930059746,
          0.0005356567901471803,
          0.0009541921609213192,
          0.0016258374939204757,
          0.002654802604117309,
          0.004161556391424603,
          0.0062725366736648275,
          0.009104108689752534,
          0.012741912166717252,
          0.01721825078511643,
          0.022491447680773352,
          0.028431682937545485,
          0.0348174255400221,
          0.04134509535384194,
          0.04765226831296124,
          0.053352066679378876,
          0.058073991256482424,
          0.06150495353890585,
          0.0634240334581309,
          0.06372558416199418,
          0.062427454087726826,
          0.059663781105666856,
          0.05566442191400451,
          0.05072507334232104,
          0.04517317942708648,
          0.03933471534404163,
          0.033506052290457104,
          0.02793365089087904,
          0.02280268439228827,
          0.018234196220718746,
          0.014289287112377725,
          0.01097821026142351,
          0.008272115200587018,
          0.006115420048630904,
          0.00443726469515046,
          0.0031610594634803786,
          0.0022116778684861563,
          0.0015202725895300515,
          0.0010269874473707063,
          0.0006819962750521192,
          0.0004453452720372021,
          0.00028604233849009747,
          0.00018075867713008526,
          0.00011241294965275444,
          0.00006881630078010586,
          0.000041479177426265697,
          0.000024622694877754508,
          0.000014398172721303533,
          0.000008295494499630913,
          0.000004710144351453713,
          0.0000026361761112661654,
          0.0000014546266143526982,
          7.91501432927329e-7,
          4.247747891312791e-7,
          2.2488169984109795e-7,
          1.174673493402138e-7,
          6.055152819284118e-8,
          3.080726395004478e-8,
          1.547299865783303e-8,
          7.672918271880254e-9,
          3.757344151926259e-9,
          1.8172034892039575e-9,
          8.68149519413092e-10,
          4.097495366624563e-10,
          1.9109020840072085e-10,
          8.806756157417983e-11,
          4.0115406601597755e-11,
          1.8062707047482043e-11,
          8.040596588940442e-12,
          3.5390246550145893e-12,
          1.5403649032115688e-12,
          6.630739603321741e-13,
          2.823261530934362e-13,
          1.1891656106395763e-13,
          4.955481755965089e-14,
          2.0432941163581175e-14,
          8.337300864171578e-15,
          3.366795798157798e-15,
          1.3457083652974306e-15,
          5.324431242313566e-16
         ],
         "yaxis": "y"
        }
       ],
       "layout": {
        "barmode": "relative",
        "legend": {
         "tracegroupgap": 0
        },
        "margin": {
         "t": 60
        },
        "template": {
         "data": {
          "bar": [
           {
            "error_x": {
             "color": "#2a3f5f"
            },
            "error_y": {
             "color": "#2a3f5f"
            },
            "marker": {
             "line": {
              "color": "#E5ECF6",
              "width": 0.5
             }
            },
            "type": "bar"
           }
          ],
          "barpolar": [
           {
            "marker": {
             "line": {
              "color": "#E5ECF6",
              "width": 0.5
             }
            },
            "type": "barpolar"
           }
          ],
          "carpet": [
           {
            "aaxis": {
             "endlinecolor": "#2a3f5f",
             "gridcolor": "white",
             "linecolor": "white",
             "minorgridcolor": "white",
             "startlinecolor": "#2a3f5f"
            },
            "baxis": {
             "endlinecolor": "#2a3f5f",
             "gridcolor": "white",
             "linecolor": "white",
             "minorgridcolor": "white",
             "startlinecolor": "#2a3f5f"
            },
            "type": "carpet"
           }
          ],
          "choropleth": [
           {
            "colorbar": {
             "outlinewidth": 0,
             "ticks": ""
            },
            "type": "choropleth"
           }
          ],
          "contour": [
           {
            "colorbar": {
             "outlinewidth": 0,
             "ticks": ""
            },
            "colorscale": [
             [
              0,
              "#0d0887"
             ],
             [
              0.1111111111111111,
              "#46039f"
             ],
             [
              0.2222222222222222,
              "#7201a8"
             ],
             [
              0.3333333333333333,
              "#9c179e"
             ],
             [
              0.4444444444444444,
              "#bd3786"
             ],
             [
              0.5555555555555556,
              "#d8576b"
             ],
             [
              0.6666666666666666,
              "#ed7953"
             ],
             [
              0.7777777777777778,
              "#fb9f3a"
             ],
             [
              0.8888888888888888,
              "#fdca26"
             ],
             [
              1,
              "#f0f921"
             ]
            ],
            "type": "contour"
           }
          ],
          "contourcarpet": [
           {
            "colorbar": {
             "outlinewidth": 0,
             "ticks": ""
            },
            "type": "contourcarpet"
           }
          ],
          "heatmap": [
           {
            "colorbar": {
             "outlinewidth": 0,
             "ticks": ""
            },
            "colorscale": [
             [
              0,
              "#0d0887"
             ],
             [
              0.1111111111111111,
              "#46039f"
             ],
             [
              0.2222222222222222,
              "#7201a8"
             ],
             [
              0.3333333333333333,
              "#9c179e"
             ],
             [
              0.4444444444444444,
              "#bd3786"
             ],
             [
              0.5555555555555556,
              "#d8576b"
             ],
             [
              0.6666666666666666,
              "#ed7953"
             ],
             [
              0.7777777777777778,
              "#fb9f3a"
             ],
             [
              0.8888888888888888,
              "#fdca26"
             ],
             [
              1,
              "#f0f921"
             ]
            ],
            "type": "heatmap"
           }
          ],
          "heatmapgl": [
           {
            "colorbar": {
             "outlinewidth": 0,
             "ticks": ""
            },
            "colorscale": [
             [
              0,
              "#0d0887"
             ],
             [
              0.1111111111111111,
              "#46039f"
             ],
             [
              0.2222222222222222,
              "#7201a8"
             ],
             [
              0.3333333333333333,
              "#9c179e"
             ],
             [
              0.4444444444444444,
              "#bd3786"
             ],
             [
              0.5555555555555556,
              "#d8576b"
             ],
             [
              0.6666666666666666,
              "#ed7953"
             ],
             [
              0.7777777777777778,
              "#fb9f3a"
             ],
             [
              0.8888888888888888,
              "#fdca26"
             ],
             [
              1,
              "#f0f921"
             ]
            ],
            "type": "heatmapgl"
           }
          ],
          "histogram": [
           {
            "marker": {
             "colorbar": {
              "outlinewidth": 0,
              "ticks": ""
             }
            },
            "type": "histogram"
           }
          ],
          "histogram2d": [
           {
            "colorbar": {
             "outlinewidth": 0,
             "ticks": ""
            },
            "colorscale": [
             [
              0,
              "#0d0887"
             ],
             [
              0.1111111111111111,
              "#46039f"
             ],
             [
              0.2222222222222222,
              "#7201a8"
             ],
             [
              0.3333333333333333,
              "#9c179e"
             ],
             [
              0.4444444444444444,
              "#bd3786"
             ],
             [
              0.5555555555555556,
              "#d8576b"
             ],
             [
              0.6666666666666666,
              "#ed7953"
             ],
             [
              0.7777777777777778,
              "#fb9f3a"
             ],
             [
              0.8888888888888888,
              "#fdca26"
             ],
             [
              1,
              "#f0f921"
             ]
            ],
            "type": "histogram2d"
           }
          ],
          "histogram2dcontour": [
           {
            "colorbar": {
             "outlinewidth": 0,
             "ticks": ""
            },
            "colorscale": [
             [
              0,
              "#0d0887"
             ],
             [
              0.1111111111111111,
              "#46039f"
             ],
             [
              0.2222222222222222,
              "#7201a8"
             ],
             [
              0.3333333333333333,
              "#9c179e"
             ],
             [
              0.4444444444444444,
              "#bd3786"
             ],
             [
              0.5555555555555556,
              "#d8576b"
             ],
             [
              0.6666666666666666,
              "#ed7953"
             ],
             [
              0.7777777777777778,
              "#fb9f3a"
             ],
             [
              0.8888888888888888,
              "#fdca26"
             ],
             [
              1,
              "#f0f921"
             ]
            ],
            "type": "histogram2dcontour"
           }
          ],
          "mesh3d": [
           {
            "colorbar": {
             "outlinewidth": 0,
             "ticks": ""
            },
            "type": "mesh3d"
           }
          ],
          "parcoords": [
           {
            "line": {
             "colorbar": {
              "outlinewidth": 0,
              "ticks": ""
             }
            },
            "type": "parcoords"
           }
          ],
          "pie": [
           {
            "automargin": true,
            "type": "pie"
           }
          ],
          "scatter": [
           {
            "marker": {
             "colorbar": {
              "outlinewidth": 0,
              "ticks": ""
             }
            },
            "type": "scatter"
           }
          ],
          "scatter3d": [
           {
            "line": {
             "colorbar": {
              "outlinewidth": 0,
              "ticks": ""
             }
            },
            "marker": {
             "colorbar": {
              "outlinewidth": 0,
              "ticks": ""
             }
            },
            "type": "scatter3d"
           }
          ],
          "scattercarpet": [
           {
            "marker": {
             "colorbar": {
              "outlinewidth": 0,
              "ticks": ""
             }
            },
            "type": "scattercarpet"
           }
          ],
          "scattergeo": [
           {
            "marker": {
             "colorbar": {
              "outlinewidth": 0,
              "ticks": ""
             }
            },
            "type": "scattergeo"
           }
          ],
          "scattergl": [
           {
            "marker": {
             "colorbar": {
              "outlinewidth": 0,
              "ticks": ""
             }
            },
            "type": "scattergl"
           }
          ],
          "scattermapbox": [
           {
            "marker": {
             "colorbar": {
              "outlinewidth": 0,
              "ticks": ""
             }
            },
            "type": "scattermapbox"
           }
          ],
          "scatterpolar": [
           {
            "marker": {
             "colorbar": {
              "outlinewidth": 0,
              "ticks": ""
             }
            },
            "type": "scatterpolar"
           }
          ],
          "scatterpolargl": [
           {
            "marker": {
             "colorbar": {
              "outlinewidth": 0,
              "ticks": ""
             }
            },
            "type": "scatterpolargl"
           }
          ],
          "scatterternary": [
           {
            "marker": {
             "colorbar": {
              "outlinewidth": 0,
              "ticks": ""
             }
            },
            "type": "scatterternary"
           }
          ],
          "surface": [
           {
            "colorbar": {
             "outlinewidth": 0,
             "ticks": ""
            },
            "colorscale": [
             [
              0,
              "#0d0887"
             ],
             [
              0.1111111111111111,
              "#46039f"
             ],
             [
              0.2222222222222222,
              "#7201a8"
             ],
             [
              0.3333333333333333,
              "#9c179e"
             ],
             [
              0.4444444444444444,
              "#bd3786"
             ],
             [
              0.5555555555555556,
              "#d8576b"
             ],
             [
              0.6666666666666666,
              "#ed7953"
             ],
             [
              0.7777777777777778,
              "#fb9f3a"
             ],
             [
              0.8888888888888888,
              "#fdca26"
             ],
             [
              1,
              "#f0f921"
             ]
            ],
            "type": "surface"
           }
          ],
          "table": [
           {
            "cells": {
             "fill": {
              "color": "#EBF0F8"
             },
             "line": {
              "color": "white"
             }
            },
            "header": {
             "fill": {
              "color": "#C8D4E3"
             },
             "line": {
              "color": "white"
             }
            },
            "type": "table"
           }
          ]
         },
         "layout": {
          "annotationdefaults": {
           "arrowcolor": "#2a3f5f",
           "arrowhead": 0,
           "arrowwidth": 1
          },
          "coloraxis": {
           "colorbar": {
            "outlinewidth": 0,
            "ticks": ""
           }
          },
          "colorscale": {
           "diverging": [
            [
             0,
             "#8e0152"
            ],
            [
             0.1,
             "#c51b7d"
            ],
            [
             0.2,
             "#de77ae"
            ],
            [
             0.3,
             "#f1b6da"
            ],
            [
             0.4,
             "#fde0ef"
            ],
            [
             0.5,
             "#f7f7f7"
            ],
            [
             0.6,
             "#e6f5d0"
            ],
            [
             0.7,
             "#b8e186"
            ],
            [
             0.8,
             "#7fbc41"
            ],
            [
             0.9,
             "#4d9221"
            ],
            [
             1,
             "#276419"
            ]
           ],
           "sequential": [
            [
             0,
             "#0d0887"
            ],
            [
             0.1111111111111111,
             "#46039f"
            ],
            [
             0.2222222222222222,
             "#7201a8"
            ],
            [
             0.3333333333333333,
             "#9c179e"
            ],
            [
             0.4444444444444444,
             "#bd3786"
            ],
            [
             0.5555555555555556,
             "#d8576b"
            ],
            [
             0.6666666666666666,
             "#ed7953"
            ],
            [
             0.7777777777777778,
             "#fb9f3a"
            ],
            [
             0.8888888888888888,
             "#fdca26"
            ],
            [
             1,
             "#f0f921"
            ]
           ],
           "sequentialminus": [
            [
             0,
             "#0d0887"
            ],
            [
             0.1111111111111111,
             "#46039f"
            ],
            [
             0.2222222222222222,
             "#7201a8"
            ],
            [
             0.3333333333333333,
             "#9c179e"
            ],
            [
             0.4444444444444444,
             "#bd3786"
            ],
            [
             0.5555555555555556,
             "#d8576b"
            ],
            [
             0.6666666666666666,
             "#ed7953"
            ],
            [
             0.7777777777777778,
             "#fb9f3a"
            ],
            [
             0.8888888888888888,
             "#fdca26"
            ],
            [
             1,
             "#f0f921"
            ]
           ]
          },
          "colorway": [
           "#636efa",
           "#EF553B",
           "#00cc96",
           "#ab63fa",
           "#FFA15A",
           "#19d3f3",
           "#FF6692",
           "#B6E880",
           "#FF97FF",
           "#FECB52"
          ],
          "font": {
           "color": "#2a3f5f"
          },
          "geo": {
           "bgcolor": "white",
           "lakecolor": "white",
           "landcolor": "#E5ECF6",
           "showlakes": true,
           "showland": true,
           "subunitcolor": "white"
          },
          "hoverlabel": {
           "align": "left"
          },
          "hovermode": "closest",
          "mapbox": {
           "style": "light"
          },
          "paper_bgcolor": "white",
          "plot_bgcolor": "#E5ECF6",
          "polar": {
           "angularaxis": {
            "gridcolor": "white",
            "linecolor": "white",
            "ticks": ""
           },
           "bgcolor": "#E5ECF6",
           "radialaxis": {
            "gridcolor": "white",
            "linecolor": "white",
            "ticks": ""
           }
          },
          "scene": {
           "xaxis": {
            "backgroundcolor": "#E5ECF6",
            "gridcolor": "white",
            "gridwidth": 2,
            "linecolor": "white",
            "showbackground": true,
            "ticks": "",
            "zerolinecolor": "white"
           },
           "yaxis": {
            "backgroundcolor": "#E5ECF6",
            "gridcolor": "white",
            "gridwidth": 2,
            "linecolor": "white",
            "showbackground": true,
            "ticks": "",
            "zerolinecolor": "white"
           },
           "zaxis": {
            "backgroundcolor": "#E5ECF6",
            "gridcolor": "white",
            "gridwidth": 2,
            "linecolor": "white",
            "showbackground": true,
            "ticks": "",
            "zerolinecolor": "white"
           }
          },
          "shapedefaults": {
           "line": {
            "color": "#2a3f5f"
           }
          },
          "ternary": {
           "aaxis": {
            "gridcolor": "white",
            "linecolor": "white",
            "ticks": ""
           },
           "baxis": {
            "gridcolor": "white",
            "linecolor": "white",
            "ticks": ""
           },
           "bgcolor": "#E5ECF6",
           "caxis": {
            "gridcolor": "white",
            "linecolor": "white",
            "ticks": ""
           }
          },
          "title": {
           "x": 0.05
          },
          "xaxis": {
           "automargin": true,
           "gridcolor": "white",
           "linecolor": "white",
           "ticks": "",
           "title": {
            "standoff": 15
           },
           "zerolinecolor": "white",
           "zerolinewidth": 2
          },
          "yaxis": {
           "automargin": true,
           "gridcolor": "white",
           "linecolor": "white",
           "ticks": "",
           "title": {
            "standoff": 15
           },
           "zerolinecolor": "white",
           "zerolinewidth": 2
          }
         }
        },
        "xaxis": {
         "anchor": "y",
         "domain": [
          0,
          1
         ],
         "title": {
          "text": "x"
         }
        },
        "yaxis": {
         "anchor": "x",
         "domain": [
          0,
          1
         ],
         "title": {
          "text": "y"
         }
        }
       }
      }
     },
     "metadata": {}
    },
    {
     "output_type": "display_data",
     "data": {
      "application/vnd.plotly.v1+json": {
       "config": {
        "plotlyServerURL": "https://plot.ly"
       },
       "data": [
        {
         "alignmentgroup": "True",
         "hovertemplate": "x=%{x}<br>y=%{y}<extra></extra>",
         "legendgroup": "",
         "marker": {
          "color": "#636efa"
         },
         "name": "",
         "offsetgroup": "",
         "orientation": "v",
         "showlegend": false,
         "textposition": "auto",
         "type": "bar",
         "x": [
          0,
          1,
          2,
          3,
          4,
          5,
          6,
          7,
          8,
          9,
          10,
          11,
          12,
          13,
          14,
          15,
          16,
          17,
          18,
          19,
          20,
          21,
          22,
          23,
          24,
          25,
          26,
          27,
          28,
          29,
          30,
          31,
          32,
          33,
          34,
          35,
          36,
          37,
          38,
          39,
          40,
          41,
          42,
          43,
          44,
          45,
          46,
          47,
          48,
          49,
          50,
          51,
          52,
          53,
          54,
          55,
          56,
          57,
          58,
          59,
          60,
          61,
          62,
          63,
          64,
          65,
          66,
          67,
          68,
          69,
          70,
          71,
          72,
          73,
          74,
          75,
          76,
          77,
          78,
          79,
          80,
          81,
          82,
          83,
          84,
          85,
          86,
          87,
          88,
          89,
          90,
          91,
          92,
          93,
          94,
          95,
          96,
          97,
          98,
          99
         ],
         "xaxis": "x",
         "y": [
          1,
          0.9999999999999997,
          0.9999999999999922,
          0.9999999999998964,
          0.9999999999989574,
          0.9999999999915967,
          0.9999999999435144,
          0.9999999996742984,
          0.9999999983553682,
          0.9999999926117258,
          0.9999999701008332,
          0.9999998898956255,
          0.9999996279440139,
          0.9999988382211876,
          0.9999966274650474,
          0.9999908512815524,
          0.9999767028070998,
          0.9999440856184408,
          0.9998730694776039,
          0.9997265876563994,
          0.9994395550634911,
          0.9989038982733673,
          0.9979497061122263,
          0.9963238686187168,
          0.9936690660137717,
          0.9895075096239405,
          0.9832349729506616,
          0.9741308642565729,
          0.9613889520991619,
          0.9441707013034807,
          0.9216792536157901,
          0.8932475706941437,
          0.8584301451548377,
          0.8170850497668588,
          0.7694327814490018,
          0.7160807147739552,
          0.6580067235623844,
          0.5965017699676235,
          0.5330777364940689,
          0.4693521523519635,
          0.40692469821048627,
          0.3472609171072589,
          0.29159649521505804,
          0.24087142183185994,
          0.19569824249244305,
          0.15636352712279855,
          0.12285747480005582,
          0.09492382393201426,
          0.07212113954356647,
          0.05388694333422006,
          0.039597656207381426,
          0.02861944594612309,
          0.020347330743402114,
          0.01423191069575025,
          0.009794646004156138,
          0.006633586539558367,
          0.004421908670759311,
          0.0029016360810371067,
          0.0018746486338544477,
          0.0011926523585079618,
          0.0007473070864870701,
          0.0004612647482248322,
          0.00028050607108065506,
          0.00016809312144117072,
          0.00009927682062949028,
          0.00005779764321756087,
          0.00003317494832899559,
          0.000018776775607798335,
          0.000010481281107366236,
          0.0000057711367569268646,
          0.000003134960645301277,
          0.0000016803340306958958,
          8.888325980782597e-7,
          4.640578091796854e-7,
          2.391761092512823e-7,
          1.2170875984818252e-7,
          6.115723172328558e-8,
          3.034996776118959e-8,
          1.4876969101074167e-8,
          7.204050800346806e-9,
          3.4467065868071245e-9,
          1.6295031990409825e-9,
          7.61353646794305e-10,
          3.516040791851083e-10,
          1.6051393547655834e-10,
          7.244627120428504e-11,
          3.2330915722411646e-11,
          1.4268253245575124e-11,
          6.2275740120298906e-12,
          2.6886270987347416e-12,
          1.1481926520673369e-12,
          4.851674617611934e-13,
          2.028377465990161e-13,
          8.393286066166183e-14,
          3.430589146091734e-14,
          1.3877787807814457e-14,
          5.551115123125783e-15,
          2.220446049250313e-15,
          8.881784197001252e-16,
          3.3306690738754696e-16
         ],
         "yaxis": "y"
        }
       ],
       "layout": {
        "barmode": "relative",
        "legend": {
         "tracegroupgap": 0
        },
        "margin": {
         "t": 60
        },
        "template": {
         "data": {
          "bar": [
           {
            "error_x": {
             "color": "#2a3f5f"
            },
            "error_y": {
             "color": "#2a3f5f"
            },
            "marker": {
             "line": {
              "color": "#E5ECF6",
              "width": 0.5
             }
            },
            "type": "bar"
           }
          ],
          "barpolar": [
           {
            "marker": {
             "line": {
              "color": "#E5ECF6",
              "width": 0.5
             }
            },
            "type": "barpolar"
           }
          ],
          "carpet": [
           {
            "aaxis": {
             "endlinecolor": "#2a3f5f",
             "gridcolor": "white",
             "linecolor": "white",
             "minorgridcolor": "white",
             "startlinecolor": "#2a3f5f"
            },
            "baxis": {
             "endlinecolor": "#2a3f5f",
             "gridcolor": "white",
             "linecolor": "white",
             "minorgridcolor": "white",
             "startlinecolor": "#2a3f5f"
            },
            "type": "carpet"
           }
          ],
          "choropleth": [
           {
            "colorbar": {
             "outlinewidth": 0,
             "ticks": ""
            },
            "type": "choropleth"
           }
          ],
          "contour": [
           {
            "colorbar": {
             "outlinewidth": 0,
             "ticks": ""
            },
            "colorscale": [
             [
              0,
              "#0d0887"
             ],
             [
              0.1111111111111111,
              "#46039f"
             ],
             [
              0.2222222222222222,
              "#7201a8"
             ],
             [
              0.3333333333333333,
              "#9c179e"
             ],
             [
              0.4444444444444444,
              "#bd3786"
             ],
             [
              0.5555555555555556,
              "#d8576b"
             ],
             [
              0.6666666666666666,
              "#ed7953"
             ],
             [
              0.7777777777777778,
              "#fb9f3a"
             ],
             [
              0.8888888888888888,
              "#fdca26"
             ],
             [
              1,
              "#f0f921"
             ]
            ],
            "type": "contour"
           }
          ],
          "contourcarpet": [
           {
            "colorbar": {
             "outlinewidth": 0,
             "ticks": ""
            },
            "type": "contourcarpet"
           }
          ],
          "heatmap": [
           {
            "colorbar": {
             "outlinewidth": 0,
             "ticks": ""
            },
            "colorscale": [
             [
              0,
              "#0d0887"
             ],
             [
              0.1111111111111111,
              "#46039f"
             ],
             [
              0.2222222222222222,
              "#7201a8"
             ],
             [
              0.3333333333333333,
              "#9c179e"
             ],
             [
              0.4444444444444444,
              "#bd3786"
             ],
             [
              0.5555555555555556,
              "#d8576b"
             ],
             [
              0.6666666666666666,
              "#ed7953"
             ],
             [
              0.7777777777777778,
              "#fb9f3a"
             ],
             [
              0.8888888888888888,
              "#fdca26"
             ],
             [
              1,
              "#f0f921"
             ]
            ],
            "type": "heatmap"
           }
          ],
          "heatmapgl": [
           {
            "colorbar": {
             "outlinewidth": 0,
             "ticks": ""
            },
            "colorscale": [
             [
              0,
              "#0d0887"
             ],
             [
              0.1111111111111111,
              "#46039f"
             ],
             [
              0.2222222222222222,
              "#7201a8"
             ],
             [
              0.3333333333333333,
              "#9c179e"
             ],
             [
              0.4444444444444444,
              "#bd3786"
             ],
             [
              0.5555555555555556,
              "#d8576b"
             ],
             [
              0.6666666666666666,
              "#ed7953"
             ],
             [
              0.7777777777777778,
              "#fb9f3a"
             ],
             [
              0.8888888888888888,
              "#fdca26"
             ],
             [
              1,
              "#f0f921"
             ]
            ],
            "type": "heatmapgl"
           }
          ],
          "histogram": [
           {
            "marker": {
             "colorbar": {
              "outlinewidth": 0,
              "ticks": ""
             }
            },
            "type": "histogram"
           }
          ],
          "histogram2d": [
           {
            "colorbar": {
             "outlinewidth": 0,
             "ticks": ""
            },
            "colorscale": [
             [
              0,
              "#0d0887"
             ],
             [
              0.1111111111111111,
              "#46039f"
             ],
             [
              0.2222222222222222,
              "#7201a8"
             ],
             [
              0.3333333333333333,
              "#9c179e"
             ],
             [
              0.4444444444444444,
              "#bd3786"
             ],
             [
              0.5555555555555556,
              "#d8576b"
             ],
             [
              0.6666666666666666,
              "#ed7953"
             ],
             [
              0.7777777777777778,
              "#fb9f3a"
             ],
             [
              0.8888888888888888,
              "#fdca26"
             ],
             [
              1,
              "#f0f921"
             ]
            ],
            "type": "histogram2d"
           }
          ],
          "histogram2dcontour": [
           {
            "colorbar": {
             "outlinewidth": 0,
             "ticks": ""
            },
            "colorscale": [
             [
              0,
              "#0d0887"
             ],
             [
              0.1111111111111111,
              "#46039f"
             ],
             [
              0.2222222222222222,
              "#7201a8"
             ],
             [
              0.3333333333333333,
              "#9c179e"
             ],
             [
              0.4444444444444444,
              "#bd3786"
             ],
             [
              0.5555555555555556,
              "#d8576b"
             ],
             [
              0.6666666666666666,
              "#ed7953"
             ],
             [
              0.7777777777777778,
              "#fb9f3a"
             ],
             [
              0.8888888888888888,
              "#fdca26"
             ],
             [
              1,
              "#f0f921"
             ]
            ],
            "type": "histogram2dcontour"
           }
          ],
          "mesh3d": [
           {
            "colorbar": {
             "outlinewidth": 0,
             "ticks": ""
            },
            "type": "mesh3d"
           }
          ],
          "parcoords": [
           {
            "line": {
             "colorbar": {
              "outlinewidth": 0,
              "ticks": ""
             }
            },
            "type": "parcoords"
           }
          ],
          "pie": [
           {
            "automargin": true,
            "type": "pie"
           }
          ],
          "scatter": [
           {
            "marker": {
             "colorbar": {
              "outlinewidth": 0,
              "ticks": ""
             }
            },
            "type": "scatter"
           }
          ],
          "scatter3d": [
           {
            "line": {
             "colorbar": {
              "outlinewidth": 0,
              "ticks": ""
             }
            },
            "marker": {
             "colorbar": {
              "outlinewidth": 0,
              "ticks": ""
             }
            },
            "type": "scatter3d"
           }
          ],
          "scattercarpet": [
           {
            "marker": {
             "colorbar": {
              "outlinewidth": 0,
              "ticks": ""
             }
            },
            "type": "scattercarpet"
           }
          ],
          "scattergeo": [
           {
            "marker": {
             "colorbar": {
              "outlinewidth": 0,
              "ticks": ""
             }
            },
            "type": "scattergeo"
           }
          ],
          "scattergl": [
           {
            "marker": {
             "colorbar": {
              "outlinewidth": 0,
              "ticks": ""
             }
            },
            "type": "scattergl"
           }
          ],
          "scattermapbox": [
           {
            "marker": {
             "colorbar": {
              "outlinewidth": 0,
              "ticks": ""
             }
            },
            "type": "scattermapbox"
           }
          ],
          "scatterpolar": [
           {
            "marker": {
             "colorbar": {
              "outlinewidth": 0,
              "ticks": ""
             }
            },
            "type": "scatterpolar"
           }
          ],
          "scatterpolargl": [
           {
            "marker": {
             "colorbar": {
              "outlinewidth": 0,
              "ticks": ""
             }
            },
            "type": "scatterpolargl"
           }
          ],
          "scatterternary": [
           {
            "marker": {
             "colorbar": {
              "outlinewidth": 0,
              "ticks": ""
             }
            },
            "type": "scatterternary"
           }
          ],
          "surface": [
           {
            "colorbar": {
             "outlinewidth": 0,
             "ticks": ""
            },
            "colorscale": [
             [
              0,
              "#0d0887"
             ],
             [
              0.1111111111111111,
              "#46039f"
             ],
             [
              0.2222222222222222,
              "#7201a8"
             ],
             [
              0.3333333333333333,
              "#9c179e"
             ],
             [
              0.4444444444444444,
              "#bd3786"
             ],
             [
              0.5555555555555556,
              "#d8576b"
             ],
             [
              0.6666666666666666,
              "#ed7953"
             ],
             [
              0.7777777777777778,
              "#fb9f3a"
             ],
             [
              0.8888888888888888,
              "#fdca26"
             ],
             [
              1,
              "#f0f921"
             ]
            ],
            "type": "surface"
           }
          ],
          "table": [
           {
            "cells": {
             "fill": {
              "color": "#EBF0F8"
             },
             "line": {
              "color": "white"
             }
            },
            "header": {
             "fill": {
              "color": "#C8D4E3"
             },
             "line": {
              "color": "white"
             }
            },
            "type": "table"
           }
          ]
         },
         "layout": {
          "annotationdefaults": {
           "arrowcolor": "#2a3f5f",
           "arrowhead": 0,
           "arrowwidth": 1
          },
          "coloraxis": {
           "colorbar": {
            "outlinewidth": 0,
            "ticks": ""
           }
          },
          "colorscale": {
           "diverging": [
            [
             0,
             "#8e0152"
            ],
            [
             0.1,
             "#c51b7d"
            ],
            [
             0.2,
             "#de77ae"
            ],
            [
             0.3,
             "#f1b6da"
            ],
            [
             0.4,
             "#fde0ef"
            ],
            [
             0.5,
             "#f7f7f7"
            ],
            [
             0.6,
             "#e6f5d0"
            ],
            [
             0.7,
             "#b8e186"
            ],
            [
             0.8,
             "#7fbc41"
            ],
            [
             0.9,
             "#4d9221"
            ],
            [
             1,
             "#276419"
            ]
           ],
           "sequential": [
            [
             0,
             "#0d0887"
            ],
            [
             0.1111111111111111,
             "#46039f"
            ],
            [
             0.2222222222222222,
             "#7201a8"
            ],
            [
             0.3333333333333333,
             "#9c179e"
            ],
            [
             0.4444444444444444,
             "#bd3786"
            ],
            [
             0.5555555555555556,
             "#d8576b"
            ],
            [
             0.6666666666666666,
             "#ed7953"
            ],
            [
             0.7777777777777778,
             "#fb9f3a"
            ],
            [
             0.8888888888888888,
             "#fdca26"
            ],
            [
             1,
             "#f0f921"
            ]
           ],
           "sequentialminus": [
            [
             0,
             "#0d0887"
            ],
            [
             0.1111111111111111,
             "#46039f"
            ],
            [
             0.2222222222222222,
             "#7201a8"
            ],
            [
             0.3333333333333333,
             "#9c179e"
            ],
            [
             0.4444444444444444,
             "#bd3786"
            ],
            [
             0.5555555555555556,
             "#d8576b"
            ],
            [
             0.6666666666666666,
             "#ed7953"
            ],
            [
             0.7777777777777778,
             "#fb9f3a"
            ],
            [
             0.8888888888888888,
             "#fdca26"
            ],
            [
             1,
             "#f0f921"
            ]
           ]
          },
          "colorway": [
           "#636efa",
           "#EF553B",
           "#00cc96",
           "#ab63fa",
           "#FFA15A",
           "#19d3f3",
           "#FF6692",
           "#B6E880",
           "#FF97FF",
           "#FECB52"
          ],
          "font": {
           "color": "#2a3f5f"
          },
          "geo": {
           "bgcolor": "white",
           "lakecolor": "white",
           "landcolor": "#E5ECF6",
           "showlakes": true,
           "showland": true,
           "subunitcolor": "white"
          },
          "hoverlabel": {
           "align": "left"
          },
          "hovermode": "closest",
          "mapbox": {
           "style": "light"
          },
          "paper_bgcolor": "white",
          "plot_bgcolor": "#E5ECF6",
          "polar": {
           "angularaxis": {
            "gridcolor": "white",
            "linecolor": "white",
            "ticks": ""
           },
           "bgcolor": "#E5ECF6",
           "radialaxis": {
            "gridcolor": "white",
            "linecolor": "white",
            "ticks": ""
           }
          },
          "scene": {
           "xaxis": {
            "backgroundcolor": "#E5ECF6",
            "gridcolor": "white",
            "gridwidth": 2,
            "linecolor": "white",
            "showbackground": true,
            "ticks": "",
            "zerolinecolor": "white"
           },
           "yaxis": {
            "backgroundcolor": "#E5ECF6",
            "gridcolor": "white",
            "gridwidth": 2,
            "linecolor": "white",
            "showbackground": true,
            "ticks": "",
            "zerolinecolor": "white"
           },
           "zaxis": {
            "backgroundcolor": "#E5ECF6",
            "gridcolor": "white",
            "gridwidth": 2,
            "linecolor": "white",
            "showbackground": true,
            "ticks": "",
            "zerolinecolor": "white"
           }
          },
          "shapedefaults": {
           "line": {
            "color": "#2a3f5f"
           }
          },
          "ternary": {
           "aaxis": {
            "gridcolor": "white",
            "linecolor": "white",
            "ticks": ""
           },
           "baxis": {
            "gridcolor": "white",
            "linecolor": "white",
            "ticks": ""
           },
           "bgcolor": "#E5ECF6",
           "caxis": {
            "gridcolor": "white",
            "linecolor": "white",
            "ticks": ""
           }
          },
          "title": {
           "x": 0.05
          },
          "xaxis": {
           "automargin": true,
           "gridcolor": "white",
           "linecolor": "white",
           "ticks": "",
           "title": {
            "standoff": 15
           },
           "zerolinecolor": "white",
           "zerolinewidth": 2
          },
          "yaxis": {
           "automargin": true,
           "gridcolor": "white",
           "linecolor": "white",
           "ticks": "",
           "title": {
            "standoff": 15
           },
           "zerolinecolor": "white",
           "zerolinewidth": 2
          }
         }
        },
        "xaxis": {
         "anchor": "y",
         "domain": [
          0,
          1
         ],
         "title": {
          "text": "x"
         }
        },
        "yaxis": {
         "anchor": "x",
         "domain": [
          0,
          1
         ],
         "title": {
          "text": "y"
         }
        }
       }
      }
     },
     "metadata": {}
    }
   ],
   "source": [
    "# Data from weekly report of RKI\n",
    "# https://www.rki.de/DE/Content/InfAZ/N/Neuartiges_Coronavirus/Situationsberichte/Sept_2020/2020-09-16-de.pdf?__blob=publicationFile\n",
    "tests_performed = 156000\n",
    "actually_found = 1187\n",
    "bin_rv = stats.binom(tests_performed, prevalence)\n",
    "x = np.array(range(0, 100))\n",
    "# How many would we find at the 50% percentile\n",
    "found_at50 = bin_rv.ppf(0.5)\n",
    "print('When performing {} tests randomly at a prevalence of {} we would find at least {} with a 50% probability.'.\n",
    "format(tests_performed, prevalence, found_at50))\n",
    "\n",
    "fig = px.bar(x=x, y=bin_rv.pmf(x))\n",
    "fig.show()\n",
    "\n",
    "fig = px.bar(x=x, y=1-bin_rv.cdf(x))\n",
    "fig.show()"
   ]
  },
  {
   "cell_type": "markdown",
   "metadata": {},
   "source": [
    "## Calculating the required specificity of a COVID-19 test\n",
    "\n",
    "We assume a test with prefect sensitivity (1.0) and want to know what the necessary specificity is to have a 50% probability for a random person to actually be an active COVID-19 case after being tested positive\n",
    "\n",
    "Lets use the term $\\text{P}^+$ to indicate that a person is infected and $\\text{P}^-$ that he or she is not. And with $\\text{test}^+$ we indicate that the test was positive and with $\\text{test}^-$ that it was negative.\n",
    "\n",
    "We start with Bayes theorem and then apply it to our case. \n",
    "\n",
    "$P(A\\mid B) =\\frac{P(B\\mid A)P(A)}{\\sum_A P(B\\mid A)}$\n",
    "\n",
    "The sensitivity is the probability that the test was positive if the person was positive ($P(\\text{test}^+\\mid \\text{P}^+)$). \n",
    "\n",
    "The specificity is the probability that the test was negative if the person was negative ($P(\\text{test}^-\\mid \\text{P}^-)$). \n",
    "\n",
    "Hence the probability that the test was positive if the person was negative is $1-\\text{specificity}$ ($P(\\text{test}^+\\mid \\text{P}^-) = 1 - P(\\text{test}^-\\mid \\text{P}^-)$)\n",
    "\n",
    "\n",
    "$P(\\text{P}^+ \\mid \\text{test}^+) =\\frac{P(\\text{test}^+\\mid \\text{P}^+)P(\\text{P}^+)}{P(\\text{test}^+\\mid \\text{P}^+)P(\\text{P}^+)+P(\\text{test}^+ \\mid \\text{P}^-)P(\\text{P}^-)}$ \n",
    "\n",
    "$P(\\text{P}^+ \\mid \\text{test}^+) =\\frac{\\text{sensitivity} \\cdot \\text{prevalence}}{\\text{sensitivity} \\cdot \\text{prevalence}+(1-\\text{specificity}) \\cdot (1-\\text{prevalence})}$\n",
    "\n",
    "So to find the correct specificity we need $P(\\text{P}^+ \\mid \\text{test}^+) \\geq 0.5$.\n",
    "\n",
    "$\\frac{\\text{sensitivity} \\cdot \\text{prevalence}}{\\text{sensitivity} \\cdot \\text{prevalence}+(1-\\text{specificity}) \\cdot (1-\\text{prevalence})} \\geq 0.5$\n",
    "\n",
    "$\\text{sensitivity} \\cdot \\text{prevalence} \\geq 0.5(\\text{sensitivity} \\cdot \\text{prevalence}+(1-\\text{specificity}) \\cdot (1-\\text{prevalence}))$\n",
    "\n",
    "$0.5(\\text{sensitivity} \\cdot \\text{prevalence}) \\geq   0.5(1-\\text{specificity}) \\cdot (1-\\text{prevalence})$\n",
    "\n",
    "$\\frac{\\text{sensitivity} \\cdot \\text{prevalence}}{1-\\text{prevalence}} \\geq (1-\\text{specificity})$\n",
    "\n",
    "$\\text{specificity} \\geq 1 - \\frac{\\text{sensitivity} \\cdot \\text{prevalence}}{1-\\text{prevalence}}$\n",
    "\n",
    "More information on COVID-19 tests is for example available in Sethuraman, N., Jeremiah, S. S., & Ryo, A. (2020). Interpreting Diagnostic Tests for SARS-CoV-2. In JAMA - Journal of the American Medical Association (Vol. 323, Issue 22, pp. 2249–2251) https://jamanetwork.com/journals/jama/fullarticle/2765837 "
   ]
  },
  {
   "cell_type": "code",
   "execution_count": 7,
   "metadata": {
    "tags": []
   },
   "outputs": [
    {
     "output_type": "stream",
     "name": "stdout",
     "text": "Required specificity is 0.9997487501686246 (given a prevalence of 0.0002511867207541134 and sensitivity of 1)\n"
    }
   ],
   "source": [
    "min_specificity = 1 - (sensitivity*prevalence)/(1-prevalence)\n",
    "print('Required specificity is {} (given a prevalence of {} and sensitivity of {})'.format(min_specificity, prevalence, sensitivity))"
   ]
  },
  {
   "cell_type": "markdown",
   "metadata": {},
   "source": [
    "## Calculating the probability of having COVID-19 antibodies after an antibody test was positive\n",
    "For this case the prevalence is quite different as it is based on all people which were infected (and survived)"
   ]
  },
  {
   "cell_type": "code",
   "execution_count": 15,
   "metadata": {
    "tags": []
   },
   "outputs": [
    {
     "output_type": "stream",
     "name": "stdout",
     "text": "Required specificity is 0.9953506455445402 (given a prevalence of 0.004702733516698277 and sensitivity of 0.984)\n"
    }
   ],
   "source": [
    "# Adapting the prevalence\n",
    "relevant_cases = cum_cases -deaths\n",
    "prevalence = relevant_cases/inhabitants\n",
    "# Assuming 50% hidden cases (multiply prevalence by 1.5)\n",
    "prevalence = prevalence*1.5 \n",
    "\n",
    "min_specificity = 1 - (sensitivity*prevalence)/(1-prevalence)\n",
    "print('Required specificity is {} (given a prevalence of {} and sensitivity of {})'.format(min_specificity, prevalence, sensitivity))"
   ]
  },
  {
   "cell_type": "code",
   "execution_count": 16,
   "metadata": {
    "tags": []
   },
   "outputs": [
    {
     "output_type": "stream",
     "name": "stdout",
     "text": "In Germany we have 260686 cases which survived COID-19, resulting in a prevalence of 470.27 per 100,000 inhabitants\nThe probability for a random person of having COVID-19 antibodies after a positive test is 0.7015517345858405, i.e. 70%\n"
    }
   ],
   "source": [
    "# Test characteristics of Roche test\n",
    "# https://diagnostics.roche.com/global/en/products/params/elecsys-anti-sars-cov-2.html\n",
    "specificity = 0.998\n",
    "sensitivity = 0.995\n",
    "\n",
    "print('In Germany we have {} cases which survived COID-19, resulting in a prevalence of {:.2f} per 100,000 inhabitants'.\n",
    "      format(relevant_cases, prevalence*100000))\n",
    "\n",
    "P_COVID19_antibodies = (sensitivity*prevalence)/(sensitivity*prevalence+(1-specificity)*(1-prevalence))\n",
    "print('The probability for a random person of having COVID-19 antibodies after a positive test is {}, i.e. {:.0f}%'.format(P_COVID19_antibodies, P_COVID19_antibodies*100))"
   ]
  },
  {
   "cell_type": "markdown",
   "metadata": {},
   "source": [
    "## Now lets assume we use the test from Bencard\n",
    "The Bencard test has different parameters for sensitivity and specificity"
   ]
  },
  {
   "cell_type": "code",
   "execution_count": 13,
   "metadata": {},
   "outputs": [],
   "source": [
    "# Test characteristics\n",
    "# https://bencard.ch/portfolio/covid-19-igg-und-igm-elisa-kits/\n",
    "specificity = 0.998\n",
    "sensitivity = 0.984"
   ]
  },
  {
   "cell_type": "code",
   "execution_count": 14,
   "metadata": {
    "tags": []
   },
   "outputs": [
    {
     "output_type": "stream",
     "name": "stdout",
     "text": "The probability for a random person of having COVID-19 antibodies after a positive test is 0.6992189221680316, i.e. 70%\n"
    }
   ],
   "source": [
    "P_COVID19_antibodies = (sensitivity*prevalence)/(sensitivity*prevalence+(1-specificity)*(1-prevalence))\n",
    "print('The probability for a random person of having COVID-19 antibodies after a positive test is {}, i.e. {:.0f}%'.format(P_COVID19_antibodies, P_COVID19_antibodies*100))"
   ]
  },
  {
   "cell_type": "code",
   "execution_count": null,
   "metadata": {},
   "outputs": [],
   "source": []
  }
 ],
 "metadata": {
  "kernelspec": {
   "display_name": "Python 3",
   "language": "python",
   "name": "python3"
  },
  "language_info": {
   "codemirror_mode": {
    "name": "ipython",
    "version": 3
   },
   "file_extension": ".py",
   "mimetype": "text/x-python",
   "name": "python",
   "nbconvert_exporter": "python",
   "pygments_lexer": "ipython3",
   "version": "3.8.5-final"
  },
  "toc": {
   "base_numbering": 1,
   "nav_menu": {},
   "number_sections": true,
   "sideBar": true,
   "skip_h1_title": false,
   "title_cell": "Table of Contents",
   "title_sidebar": "Contents",
   "toc_cell": false,
   "toc_position": {},
   "toc_section_display": true,
   "toc_window_display": false
  }
 },
 "nbformat": 4,
 "nbformat_minor": 4
}