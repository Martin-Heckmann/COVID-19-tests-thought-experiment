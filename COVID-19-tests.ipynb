{
 "cells": [
  {
   "cell_type": "markdown",
   "metadata": {},
   "source": [
    "# Small example to show the influence of the prevalence on the results of a COVID-19 test\n",
    "This example is inspired by: https://www.quarks.de/gesundheit/medizin/corona-test-wie-funktioniert-der-test/ and https://www.tagesschau.de/faktenfinder/corona-test-117.html"
   ]
  },
  {
   "cell_type": "code",
   "execution_count": 1,
   "metadata": {},
   "outputs": [],
   "source": [
    "# Housekeeping: Loading of necessary packets\n",
    "import numpy as np\n",
    "from scipy import stats\n",
    "import plotly as py\n",
    "import plotly.graph_objs as go\n",
    "import plotly.express as px"
   ]
  },
  {
   "cell_type": "markdown",
   "metadata": {},
   "source": [
    "## The numbers for our experiment\n",
    "We use the estimated numbers of active COVID-19 cases in Germany from the RKI website.\n",
    "As test we assume a test by Roche."
   ]
  },
  {
   "cell_type": "code",
   "execution_count": 32,
   "metadata": {},
   "outputs": [],
   "source": [
    "# As of Spe. 16.09 there are approx. 20.000 active COVID-19 cases in Germany\n",
    "# https://experience.arcgis.com/experience/478220a4c454480e823b17327b2bf1d4/page/page_0/\n",
    "cum_cases = 263663\n",
    "recovered_cases = 236000\n",
    "deaths = 9368\n",
    "inhabitants = 83149300 # https://en.wikipedia.org/wiki/Demographics_of_Germany\n",
    "\n",
    "\n",
    "\n",
    "# Test characteristics of Roche test\n",
    "# https://www.roche.de/diagnostics/tests-parameter/elecsys-anti-sars-cov-2.html#Allgemeine-Informationen-zu-SARS-CoV-2\n",
    "specificity = 0.998\n",
    "sensitivity = 0.995"
   ]
  },
  {
   "cell_type": "code",
   "execution_count": 33,
   "metadata": {},
   "outputs": [
    {
     "name": "stdout",
     "output_type": "stream",
     "text": [
      "In Germany we have 18295 current cases and a prevalence of 22.00 per 100,000 inhabitants\n"
     ]
    }
   ],
   "source": [
    "current_cases = cum_cases - recovered_cases - deaths\n",
    "prevalence = current_cases/inhabitants\n",
    "print('In Germany we have {} current cases and a prevalence of {:.2f} per 100,000 inhabitants'.\n",
    "      format(current_cases, prevalence*100000))"
   ]
  },
  {
   "cell_type": "markdown",
   "metadata": {},
   "source": [
    "## Calculating the probability of having COVID-19 after being tested positive\n",
    "\n",
    "Lets use the term $P+$ to indicate that a person is infected and $P-$ that he or she is not. And with $test+$ we indicate that the test was positive and with $test-$ that it was negative.\n",
    "\n",
    "We start with Bayes theorem and then apply it to our case. The sensitivity is the probability that the test was positive if the person was positive ($P(\\text{test+}\\mid \\text{P+})$). \n",
    "\n",
    "The specificity is the probability that the test was negative if the person was negative ($P(\\text{test-}\\mid \\text{P-})$). \n",
    "\n",
    "Hence the probability that the test was positive if the person was negative is $1-specificity$ ($P(\\text{test+}\\mid \\text{P-}) = 1 - P(\\text{test-}\\mid \\text{P-})$)\n",
    "\n",
    "\\begin{align*}\n",
    "P(A\\mid B) &=\\frac{P(B\\mid A)P(A)}{\\sum\\limits_A P(B\\mid A)}\\\\\n",
    "P(\\text{P+}\\mid \\text{test+}) &=\\frac{P(\\text{test+}\\mid \\text{P+})P(\\text{P+})}{P(\\text{test+}\\mid \\text{P+})P(\\text{P+})+P(\\text{test+}\\mid \\text{P-})P(\\text{P-})} \\\\\n",
    "P(\\text{P+}\\mid \\text{test+}) &=\\frac{sensitivity \\cdot prevalence)}{sensitivity \\cdot prevalence+(1-specificity) \\cdot (1-prevalence)} \n",
    "\\end{align*}"
   ]
  },
  {
   "cell_type": "code",
   "execution_count": 34,
   "metadata": {},
   "outputs": [
    {
     "name": "stdout",
     "output_type": "stream",
     "text": [
      "0.09868252625077084\n"
     ]
    }
   ],
   "source": [
    "P_having_COVID19 = (sensitivity*prevalence)/(sensitivity*prevalence+(1-specificity)*(1-prevalence))\n",
    "print(P_having_COVID19)"
   ]
  },
  {
   "cell_type": "markdown",
   "metadata": {},
   "source": [
    "So we see we only have approx. a probability of 10% of actually being infected despite a positive test "
   ]
  },
  {
   "cell_type": "markdown",
   "metadata": {},
   "source": [
    "## Calculating the probability of having COVID-19 after being exposed to someone infected and being tested positive\n",
    "\n",
    "We assume that the exposure to someone infected with COVID-19 results in a risk of 1% to also be infected.\n",
    "\n",
    "Hence the prevalence has to be replaced by the infection risk (in this thought experiment we neglect the additional risk of being infected due to the prevalence as this will be largely dominated by the infection risk from the contact).\n",
    "\n",
    "\\begin{align*}\n",
    "P(A\\mid B) &=\\frac{P(B\\mid A)P(A)}{\\sum\\limits_A P(B\\mid A)}\\\\\n",
    "P(\\text{P+}\\mid \\text{test+}) &=\\frac{P(\\text{test+}\\mid \\text{P+})P(\\text{P+})}{P(\\text{test+}\\mid \\text{P+})P(\\text{P+})+P(\\text{test+}\\mid \\text{P-})P(\\text{P-})} \\\\\n",
    "P(\\text{P+}\\mid \\text{test+}) &=\\frac{sensitivity \\cdot infection\\_risk)}{sensitivity \\cdot infection\\_risk+(1-specificity) \\cdot (1-infection\\_risk)}\n",
    "\\end{align*}"
   ]
  },
  {
   "cell_type": "code",
   "execution_count": 35,
   "metadata": {
    "scrolled": true
   },
   "outputs": [
    {
     "name": "stdout",
     "output_type": "stream",
     "text": [
      "0.8340318524727576\n"
     ]
    }
   ],
   "source": [
    "infection_risk = 0.01\n",
    "\n",
    "P_having_COVID19_after_contact = (sensitivity*infection_risk)/(sensitivity*infection_risk+(1-specificity)*(1-infection_risk))\n",
    "print(P_having_COVID19_after_contact)"
   ]
  },
  {
   "cell_type": "markdown",
   "metadata": {},
   "source": [
    "Now things look much different. If we have a risk of 1% of being infected with a positive test we have approx. a probability of 80% of actually being infected. "
   ]
  },
  {
   "cell_type": "markdown",
   "metadata": {},
   "source": [
    "## Now lets assume we use the test from Bencard\n",
    "The Bencard test has different parameters for sensitivity and specificity"
   ]
  },
  {
   "cell_type": "code",
   "execution_count": 36,
   "metadata": {},
   "outputs": [],
   "source": [
    "# Test characteristics\n",
    "# https://bencard.ch/portfolio/covid-19-igg-und-igm-elisa-kits/\n",
    "specificity = 0.998\n",
    "sensitivity = 0.984"
   ]
  },
  {
   "cell_type": "code",
   "execution_count": 37,
   "metadata": {},
   "outputs": [
    {
     "name": "stdout",
     "output_type": "stream",
     "text": [
      "0.09769814867547036\n"
     ]
    }
   ],
   "source": [
    "P_having_COVID19 = (sensitivity*prevalence)/(sensitivity*prevalence+(1-specificity)*(1-prevalence))\n",
    "print(P_having_COVID19)"
   ]
  },
  {
   "cell_type": "code",
   "execution_count": null,
   "metadata": {},
   "outputs": [],
   "source": []
  }
 ],
 "metadata": {
  "kernelspec": {
   "display_name": "Python 3",
   "language": "python",
   "name": "python3"
  },
  "language_info": {
   "codemirror_mode": {
    "name": "ipython",
    "version": 3
   },
   "file_extension": ".py",
   "mimetype": "text/x-python",
   "name": "python",
   "nbconvert_exporter": "python",
   "pygments_lexer": "ipython3",
   "version": "3.7.8"
  },
  "toc": {
   "base_numbering": 1,
   "nav_menu": {},
   "number_sections": true,
   "sideBar": true,
   "skip_h1_title": false,
   "title_cell": "Table of Contents",
   "title_sidebar": "Contents",
   "toc_cell": false,
   "toc_position": {},
   "toc_section_display": true,
   "toc_window_display": false
  }
 },
 "nbformat": 4,
 "nbformat_minor": 4
}
