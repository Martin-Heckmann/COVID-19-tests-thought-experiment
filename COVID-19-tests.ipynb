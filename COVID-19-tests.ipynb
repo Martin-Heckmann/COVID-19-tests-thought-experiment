{
 "cells": [
  {
   "cell_type": "markdown",
   "metadata": {},
   "source": [
    "# Small example to show the influence of the prevalence on the results of a COVID-19 test\n",
    "This example is inspired by: https://www.quarks.de/gesundheit/medizin/corona-test-wie-funktioniert-der-test/ and https://www.tagesschau.de/faktenfinder/corona-test-117.html"
   ]
  },
  {
   "cell_type": "code",
   "execution_count": 30,
   "metadata": {},
   "outputs": [],
   "source": [
    "# Housekeeping: Loading of necessary packets\n",
    "import numpy as np\n",
    "from scipy import stats\n",
    "import plotly as py\n",
    "import plotly.graph_objs as go\n",
    "import plotly.express as px"
   ]
  },
  {
   "cell_type": "markdown",
   "metadata": {},
   "source": [
    "## The numbers for our experiment\n",
    "We use the estimated numbers of active COVID-19 cases in Germany from the RKI website.\n",
    "As test we assume a test by Roche."
   ]
  },
  {
   "cell_type": "code",
   "execution_count": 15,
   "metadata": {},
   "outputs": [],
   "source": [
    "# As of Spe. 16.09 there are approx. 20.000 active COVID-19 cases in Germany\n",
    "# https://experience.arcgis.com/experience/478220a4c454480e823b17327b2bf1d4/page/page_0/\n",
    "cum_cases = 263663\n",
    "recovered_cases = 236000\n",
    "deaths = 9368\n",
    "inhabitants = 83149300 # https://en.wikipedia.org/wiki/Demographics_of_Germany\n",
    "\n",
    "# Assuming a test with perfect sensitivity\n",
    "sensitivity = 1"
   ]
  },
  {
   "cell_type": "code",
   "execution_count": 26,
   "metadata": {
    "tags": []
   },
   "outputs": [
    {
     "output_type": "stream",
     "name": "stdout",
     "text": "In Germany we have 18295 current cases and a prevalence of 22.00 per 100,000 inhabitants\n"
    }
   ],
   "source": [
    "current_cases = cum_cases - recovered_cases - deaths\n",
    "prevalence = current_cases/inhabitants\n",
    "print('In Germany we have {} current cases and a prevalence of {:.2f} per 100,000 inhabitants'.\n",
    "      format(current_cases, prevalence*100000))"
   ]
  },
  {
   "cell_type": "markdown",
   "metadata": {},
   "source": [
    "## Calculating the number of people we need to test to have a 50% probability of finding an active case\n",
    "If we randomly test people, how many do we need to test to have a 50% probability of finding an active case.\n",
    "\n",
    "Using the binomial distribution\n",
    "\n",
    "$P(p|k,n)=\\binom{n}{k} p^k (1-p)^{n-k}$.\n",
    "\n",
    "The probability of not finding any case in $n$ tests is\n",
    "$P(k=0 \\mid p, n) = \\binom{n}{0} p^0 (1-p)^{n} = (1-p)^{n}$.\n",
    "\n",
    "This is the inverse probability of finding at least one case. Hence\n",
    "\n",
    "$P(k \\geq 1 \\mid p, n) = (1-p)^{n} \\geq 0.5$ .\n",
    "\n",
    "Hence\n",
    "\n",
    "$n \\geq \\frac{\\ln 0.5}{\\ln(1-p)}$\n",
    "\n",
    "where $p$ is the prevalence of the cases.\n"
   ]
  },
  {
   "cell_type": "code",
   "execution_count": 39,
   "metadata": {
    "tags": []
   },
   "outputs": [
    {
     "output_type": "stream",
     "name": "stdout",
     "text": "If we test randomly, we need to test 3149 people to have a 50% probability of detecting an active case\n"
    }
   ],
   "source": [
    "required_n = np.log(0.5)/np.log(1-prevalence)\n",
    "print('If we test randomly, we need to test {:d} people to have a 50% probability of detecting an active case'.format(np.int(required_n)))"
   ]
  },
  {
   "cell_type": "markdown",
   "metadata": {},
   "source": [
    "## Calculating the required specificity of a COVID-19 test\n",
    "\n",
    "We assume a test with prefect sensitivity (1.0) and want to know what the necessary specificity is to have a 50% probability for a random person to actually be an active COVID-19 case after being tested positive\n",
    "\n",
    "Lets use the term $\\text{P}^+$ to indicate that a person is infected and $\\text{P}^-$ that he or she is not. And with $\\text{test}^+$ we indicate that the test was positive and with $\\text{test}^-$ that it was negative.\n",
    "\n",
    "We start with Bayes theorem and then apply it to our case. \n",
    "\n",
    "$P(A\\mid B) =\\frac{P(B\\mid A)P(A)}{\\sum_A P(B\\mid A)}$\n",
    "\n",
    "The sensitivity is the probability that the test was positive if the person was positive ($P(\\text{test}^+\\mid \\text{P}^+)$). \n",
    "\n",
    "The specificity is the probability that the test was negative if the person was negative ($P(\\text{test}^-\\mid \\text{P}^-)$). \n",
    "\n",
    "Hence the probability that the test was positive if the person was negative is $1-\\text{specificity}$ ($P(\\text{test}^+\\mid \\text{P}^-) = 1 - P(\\text{test}^-\\mid \\text{P}^-)$)\n",
    "\n",
    "\n",
    "$P(\\text{P}^+ \\mid \\text{test}^+) =\\frac{P(\\text{test}^+\\mid \\text{P}^+)P(\\text{P}^+)}{P(\\text{test}^+\\mid \\text{P}^+)P(\\text{P}^+)+P(\\text{test}^+ \\mid \\text{P}^-)P(\\text{P}^-)}$ \n",
    "\n",
    "$P(\\text{P}^+ \\mid \\text{test}^+) =\\frac{\\text{sensitivity} \\cdot \\text{prevalence}}{\\text{sensitivity} \\cdot \\text{prevalence}+(1-\\text{specificity}) \\cdot (1-\\text{prevalence})}$\n",
    "\n",
    "So to find the correct specificity we need $P(\\text{P}^+ \\mid \\text{test}^+) \\geq 0.5$.\n",
    "\n",
    "$\\frac{\\text{sensitivity} \\cdot \\text{prevalence}}{\\text{sensitivity} \\cdot \\text{prevalence}+(1-\\text{specificity}) \\cdot (1-\\text{prevalence})} \\geq 0.5$\n",
    "\n",
    "$\\text{sensitivity} \\cdot \\text{prevalence} \\geq 0.5(\\text{sensitivity} \\cdot \\text{prevalence}+(1-\\text{specificity}) \\cdot (1-\\text{prevalence}))$\n",
    "\n",
    "$0.5(\\text{sensitivity} \\cdot \\text{prevalence}) \\geq   0.5(1-\\text{specificity}) \\cdot (1-\\text{prevalence})$\n",
    "\n",
    "$\\frac{\\text{sensitivity} \\cdot \\text{prevalence}}{1-\\text{prevalence}} \\geq (1-\\text{specificity})$\n",
    "\n",
    "$\\text{specificity} \\geq 1 - \\frac{\\text{sensitivity} \\cdot \\text{prevalence}}{1-\\text{prevalence}}$\n",
    "\n",
    "More information on COVID-19 tests is for example available in Sethuraman, N., Jeremiah, S. S., & Ryo, A. (2020). Interpreting Diagnostic Tests for SARS-CoV-2. In JAMA - Journal of the American Medical Association (Vol. 323, Issue 22, pp. 2249–2251). "
   ]
  },
  {
   "cell_type": "code",
   "execution_count": 19,
   "metadata": {
    "tags": []
   },
   "outputs": [
    {
     "output_type": "stream",
     "name": "stdout",
     "text": "Required specificity is 0.9997799256727379 (given a prevalence of 0.0002200259052090637 and sensitivity of 1\n"
    }
   ],
   "source": [
    "min_specificity = 1 - (sensitivity*prevalence)/(1-prevalence)\n",
    "print('Required specificity is {} (given a prevalence of {} and sensitivity of {}'.format(min_specificity, prevalence, sensitivity))"
   ]
  },
  {
   "cell_type": "markdown",
   "metadata": {},
   "source": [
    "## Calculating the probability of having COVID-19 antibodies after an antibody test was positive\n",
    "For this case the prevalence is quite different as it is based on all people which were infected (and survived)"
   ]
  },
  {
   "cell_type": "code",
   "execution_count": 42,
   "metadata": {
    "tags": []
   },
   "outputs": [
    {
     "output_type": "stream",
     "name": "stdout",
     "text": "In Germany we have 254295 cases which survived COID-19, resulting in a prevalence of 305.83 per 100,000 inhabitants\nThe probability for a random person of having COVID-19 antibodies after a positive test is 0.6041436196659687, i.e. 60%\n"
    }
   ],
   "source": [
    "# Adapting the prevalence\n",
    "relevant_cases = cum_cases -deaths\n",
    "prevalence = relevant_cases/inhabitants\n",
    "\n",
    "# Test characteristics of Roche test\n",
    "# https://www.roche.de/diagnostics/tests-parameter/elecsys-anti-sars-cov-2.html#Allgemeine-Informationen-zu-SARS-CoV-2\n",
    "specificity = 0.998\n",
    "sensitivity = 0.995\n",
    "\n",
    "print('In Germany we have {} cases which survived COID-19, resulting in a prevalence of {:.2f} per 100,000 inhabitants'.\n",
    "      format(relevant_cases, prevalence*100000))\n",
    "\n",
    "P_COVID19_antibodies = (sensitivity*prevalence)/(sensitivity*prevalence+(1-specificity)*(1-prevalence))\n",
    "print('The probability for a random person of having COVID-19 antibodies after a positive test is {}, i.e. {:.0f}%'.format(P_COVID19_antibodies, P_COVID19_antibodies*100))"
   ]
  },
  {
   "cell_type": "markdown",
   "metadata": {},
   "source": [
    "## Now lets assume we use the test from Bencard\n",
    "The Bencard test has different parameters for sensitivity and specificity"
   ]
  },
  {
   "cell_type": "code",
   "execution_count": 43,
   "metadata": {},
   "outputs": [],
   "source": [
    "# Test characteristics\n",
    "# https://bencard.ch/portfolio/covid-19-igg-und-igm-elisa-kits/\n",
    "specificity = 0.998\n",
    "sensitivity = 0.984"
   ]
  },
  {
   "cell_type": "code",
   "execution_count": 44,
   "metadata": {
    "tags": []
   },
   "outputs": [
    {
     "output_type": "stream",
     "name": "stdout",
     "text": "0.601481927546635\n"
    }
   ],
   "source": [
    "P_having_COVID19 = (sensitivity*prevalence)/(sensitivity*prevalence+(1-specificity)*(1-prevalence))\n",
    "print(P_having_COVID19)"
   ]
  }
 ],
 "metadata": {
  "kernelspec": {
   "display_name": "Python 3",
   "language": "python",
   "name": "python3"
  },
  "language_info": {
   "codemirror_mode": {
    "name": "ipython",
    "version": 3
   },
   "file_extension": ".py",
   "mimetype": "text/x-python",
   "name": "python",
   "nbconvert_exporter": "python",
   "pygments_lexer": "ipython3",
   "version": "3.8.5-final"
  },
  "toc": {
   "base_numbering": 1,
   "nav_menu": {},
   "number_sections": true,
   "sideBar": true,
   "skip_h1_title": false,
   "title_cell": "Table of Contents",
   "title_sidebar": "Contents",
   "toc_cell": false,
   "toc_position": {},
   "toc_section_display": true,
   "toc_window_display": false
  }
 },
 "nbformat": 4,
 "nbformat_minor": 4
}